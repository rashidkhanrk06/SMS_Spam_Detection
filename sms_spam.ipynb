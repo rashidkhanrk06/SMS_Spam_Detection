{
 "cells": [
  {
   "cell_type": "markdown",
   "id": "ae6a914c",
   "metadata": {},
   "source": [
    "#### Custom CountVectorizer and NaiveBayes Implementation"
   ]
  },
  {
   "cell_type": "code",
   "execution_count": 1,
   "id": "a330de50",
   "metadata": {},
   "outputs": [],
   "source": [
    "from vectorizer import CountVectorizer\n",
    "from naiveBayes import NaiveBayes\n",
    "import pandas as pd"
   ]
  },
  {
   "cell_type": "markdown",
   "id": "f0a17c88",
   "metadata": {},
   "source": [
    "#### Loading and Displaying SMS Spam Dataset"
   ]
  },
  {
   "cell_type": "code",
   "execution_count": 2,
   "id": "6fee0b3c",
   "metadata": {},
   "outputs": [
    {
     "name": "stdout",
     "output_type": "stream",
     "text": [
      "(5572, 2)\n"
     ]
    },
    {
     "data": {
      "text/html": [
       "<div>\n",
       "<style scoped>\n",
       "    .dataframe tbody tr th:only-of-type {\n",
       "        vertical-align: middle;\n",
       "    }\n",
       "\n",
       "    .dataframe tbody tr th {\n",
       "        vertical-align: top;\n",
       "    }\n",
       "\n",
       "    .dataframe thead th {\n",
       "        text-align: right;\n",
       "    }\n",
       "</style>\n",
       "<table border=\"1\" class=\"dataframe\">\n",
       "  <thead>\n",
       "    <tr style=\"text-align: right;\">\n",
       "      <th></th>\n",
       "      <th>Label</th>\n",
       "      <th>SMS</th>\n",
       "    </tr>\n",
       "  </thead>\n",
       "  <tbody>\n",
       "    <tr>\n",
       "      <th>0</th>\n",
       "      <td>ham</td>\n",
       "      <td>Go until jurong point, crazy.. Available only ...</td>\n",
       "    </tr>\n",
       "    <tr>\n",
       "      <th>1</th>\n",
       "      <td>ham</td>\n",
       "      <td>Ok lar... Joking wif u oni...</td>\n",
       "    </tr>\n",
       "    <tr>\n",
       "      <th>2</th>\n",
       "      <td>spam</td>\n",
       "      <td>Free entry in 2 a wkly comp to win FA Cup fina...</td>\n",
       "    </tr>\n",
       "    <tr>\n",
       "      <th>3</th>\n",
       "      <td>ham</td>\n",
       "      <td>U dun say so early hor... U c already then say...</td>\n",
       "    </tr>\n",
       "    <tr>\n",
       "      <th>4</th>\n",
       "      <td>ham</td>\n",
       "      <td>Nah I don't think he goes to usf, he lives aro...</td>\n",
       "    </tr>\n",
       "  </tbody>\n",
       "</table>\n",
       "</div>"
      ],
      "text/plain": [
       "  Label                                                SMS\n",
       "0   ham  Go until jurong point, crazy.. Available only ...\n",
       "1   ham                      Ok lar... Joking wif u oni...\n",
       "2  spam  Free entry in 2 a wkly comp to win FA Cup fina...\n",
       "3   ham  U dun say so early hor... U c already then say...\n",
       "4   ham  Nah I don't think he goes to usf, he lives aro..."
      ]
     },
     "execution_count": 2,
     "metadata": {},
     "output_type": "execute_result"
    }
   ],
   "source": [
    "sms_spam = \\\n",
    "pd.read_csv('SMSSpamCollection', sep='\\t', header=None, \\\n",
    "            names=['Label', 'SMS'])\n",
    "\n",
    "print(sms_spam.shape)\n",
    "sms_spam.head()"
   ]
  },
  {
   "cell_type": "markdown",
   "id": "6c907836",
   "metadata": {},
   "source": [
    "#### Removing Punctuation and Lowercasing SMS Text and Label Encoding"
   ]
  },
  {
   "cell_type": "code",
   "execution_count": 3,
   "id": "51975e59",
   "metadata": {},
   "outputs": [],
   "source": [
    "import string \n",
    "punctuation = string.punctuation\n",
    "sms_spam['SMS'] = sms_spam['SMS'].apply(lambda x: str.translate(str.lower(x),str.maketrans('','',punctuation)))\n",
    "sms_spam['Label'] = sms_spam['Label'].replace({'ham':0,'spam':1})"
   ]
  },
  {
   "cell_type": "markdown",
   "id": "7fad0b8e",
   "metadata": {},
   "source": [
    "#### Applying Custom CountVectorizer to Transform SMS Text into Feature Vectorsand Extracting Labels (y) from SMS Spam Dataset"
   ]
  },
  {
   "cell_type": "code",
   "execution_count": 4,
   "id": "e1cb2db0",
   "metadata": {},
   "outputs": [],
   "source": [
    "sms = CountVectorizer()\n",
    "X = sms.fit_transform(sms_spam['SMS'])\n",
    "y = sms_spam['Label']"
   ]
  },
  {
   "cell_type": "markdown",
   "id": "8f2a4818",
   "metadata": {},
   "source": [
    "#### Splitting the Data into Training and Testing Sets using scikit-learn's `train_test_split`"
   ]
  },
  {
   "cell_type": "code",
   "execution_count": 5,
   "id": "fe069fc2",
   "metadata": {},
   "outputs": [],
   "source": [
    "from sklearn.model_selection import train_test_split\n",
    "X_train,X_test,y_train,y_test = train_test_split(X,y,test_size=0.30, random_state=42)"
   ]
  },
  {
   "cell_type": "markdown",
   "id": "977f7dcc",
   "metadata": {},
   "source": [
    "#### Training and Evaluating Naive Bayes Classifier"
   ]
  },
  {
   "cell_type": "code",
   "execution_count": 6,
   "id": "4bc3b0fd",
   "metadata": {},
   "outputs": [],
   "source": [
    "nb = NaiveBayes()\n",
    "nb.fit(X_train,y_train)"
   ]
  },
  {
   "cell_type": "code",
   "execution_count": 7,
   "id": "5ea4c47d",
   "metadata": {},
   "outputs": [],
   "source": [
    "y_pred = nb.predict(X_test)"
   ]
  },
  {
   "cell_type": "markdown",
   "id": "8e6b56d1",
   "metadata": {},
   "source": [
    "#### Python Code: Printing and Displaying Accuracy Score"
   ]
  },
  {
   "cell_type": "code",
   "execution_count": 8,
   "id": "907ee58f",
   "metadata": {},
   "outputs": [
    {
     "data": {
      "text/plain": [
       "0.972488038277512"
      ]
     },
     "execution_count": 8,
     "metadata": {},
     "output_type": "execute_result"
    }
   ],
   "source": [
    "accurecy = sum(y_test ==y_pred)/len(y_test)\n",
    "accurecy "
   ]
  },
  {
   "cell_type": "code",
   "execution_count": null,
   "id": "93669b53",
   "metadata": {},
   "outputs": [],
   "source": []
  }
 ],
 "metadata": {
  "kernelspec": {
   "display_name": "Python 3 (ipykernel)",
   "language": "python",
   "name": "python3"
  },
  "language_info": {
   "codemirror_mode": {
    "name": "ipython",
    "version": 3
   },
   "file_extension": ".py",
   "mimetype": "text/x-python",
   "name": "python",
   "nbconvert_exporter": "python",
   "pygments_lexer": "ipython3",
   "version": "3.9.13"
  }
 },
 "nbformat": 4,
 "nbformat_minor": 5
}
